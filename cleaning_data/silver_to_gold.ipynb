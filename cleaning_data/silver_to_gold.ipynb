{
 "cells": [
  {
   "cell_type": "code",
   "execution_count": 18,
   "id": "347d3f17",
   "metadata": {},
   "outputs": [],
   "source": [
    "import pandas as pd\n",
    "import numpy as np"
   ]
  },
  {
   "cell_type": "code",
   "execution_count": 4,
   "id": "e09a9d44",
   "metadata": {},
   "outputs": [],
   "source": [
    "# show all the columns of df\n",
    "pd.set_option(\"display.max_columns\", None)"
   ]
  },
  {
   "cell_type": "code",
   "execution_count": 5,
   "id": "1bb8ca54",
   "metadata": {},
   "outputs": [],
   "source": [
    "df = pd.read_csv('Activities_silver.csv')"
   ]
  },
  {
   "cell_type": "code",
   "execution_count": 8,
   "id": "4d2deeef",
   "metadata": {},
   "outputs": [],
   "source": [
    "# Cleaning table from unsued columns\n",
    "df = df.drop(columns=[\n",
    "    'Favorite',\n",
    "    'Avg Stride Length', \n",
    "    'Avg Vertical Ratio',\n",
    "    'Avg Vertical Oscillation', \n",
    "    'Avg Ground Contact Time',\n",
    "    'Grit', \n",
    "    'Flow',\n",
    "    'Avg. Swolf',\n",
    "    'Avg Stroke Rate', \n",
    "    'Total Reps', \n",
    "    'Dive Time',\n",
    "    'Surface Interval', \n",
    "    'Decompression', \n",
    "    'Best Lap Time', \n",
    "    'Number of Laps',\n",
    "    'Max Temp',\n",
    "    ]\n",
    ")"
   ]
  },
  {
   "cell_type": "code",
   "execution_count": null,
   "id": "8c2e8d82",
   "metadata": {},
   "outputs": [],
   "source": [
    "# replacing bulshit values to zeros\n",
    "df = df.replace(['--'],'0')\n",
    "df['Total Strokes'] = df['Total Strokes'].fillna(0)\n",
    "df.head()"
   ]
  },
  {
   "cell_type": "code",
   "execution_count": 14,
   "id": "e60b2615",
   "metadata": {},
   "outputs": [],
   "source": [
    "# converting columns into useful formats\n",
    "df['Date'] = pd.to_datetime(df['Date'])\n",
    "df['Distance'] = df['Distance'].str.replace(',', '.', regex=True).astype('float').round(2)\n",
    "df['Calories'] = df['Calories'].str.replace('.', '', regex=True).astype('float')\n",
    "df['Avg HR'] = df['Avg HR'].astype('int')\n",
    "df['Max HR'] = df['Max HR'].astype('int')\n",
    "df['Aerobic TE'] = df['Aerobic TE'].str.replace(',', '.').astype('float')\n",
    "df['Avg Speed'] = df['Avg Speed'].str.replace(',', '.').astype('float')\n",
    "df['Max Speed'] = df['Max Speed'].str.replace(',', '.').astype('float')\n",
    "df['Total Ascent'] = df['Total Ascent'].str.replace('.', '', regex=True).astype('int')\n",
    "df['Total Descent'] = df['Total Descent'].str.replace('.', '', regex=True).astype('int')\n",
    "df['Avg Bike Cadence'] = df['Avg Bike Cadence'].astype('int')\n",
    "df['Max Bike Cadence'] = df['Max Bike Cadence'].astype('int')\n",
    "df['Normalized Power® (NP®)'] = df['Normalized Power® (NP®)'].astype('int')\n",
    "df['Training Stress Score®'] = df['Training Stress Score®'].str.replace(',', '.').astype('float')\n",
    "df['Max Avg Power (20 min)'] = df['Max Avg Power (20 min)'].str.replace(',', '.').astype('int')\n",
    "df['Avg Power'] = df['Avg Power'].str.replace(',', '.').astype('int')\n",
    "df['Max Power'] = df['Max Power'].str.replace(',', '.').astype('int')\n",
    "df['Total Strokes'] = df['Total Strokes'].astype('int')\n",
    "df['Min Temp'] = df['Min Temp'].str.replace(',', '.').astype('float')\n",
    "df['Min Elevation'] = df['Min Elevation'].str.replace('.', '', regex=True).astype('int')\n",
    "df['Max Elevation'] = df['Max Elevation'].str.replace('.', '', regex=True).astype('int')\n",
    "df['Time'] = pd.to_timedelta(df['Time'])\n",
    "df['Moving Time'] = pd.to_timedelta(df['Moving Time'])\n",
    "df['Elapsed Time'] = pd.to_timedelta(df['Elapsed Time'])"
   ]
  },
  {
   "cell_type": "code",
   "execution_count": 16,
   "id": "058756b5",
   "metadata": {},
   "outputs": [],
   "source": [
    "# rename columns\n",
    "df.rename(\n",
    "    columns={\n",
    "        'Activity Type': 'Activity_Type',\n",
    "        'Avg HR': 'Avg_HR',\n",
    "        'Max HR': 'Max_HR',\n",
    "        'Aerobic TE': 'Aerobic_TE',\n",
    "        'Avg Speed': 'Avg_Speed',\n",
    "        'Max Speed': 'Max_Speed',\n",
    "        'Total Ascent': 'Total_Ascent',\n",
    "        'Total Descent': 'Total_Descent',\n",
    "        'Avg Bike Cadence': 'Avg_Cadence',\n",
    "        'Max Bike Cadence': 'Max_Cadence',\n",
    "        'Normalized Power® (NP®)': 'Normalized_Power',\n",
    "        'Training Stress Score®': 'Training_Stress_Score',\n",
    "        'Max Avg Power (20 min)': 'Max_Avg_Power(20min)',\n",
    "        'Avg Power': 'Avg_Power',\n",
    "        'Max Power': 'Max_Power',\n",
    "        'Total Strokes': 'Total_Strokes',\n",
    "        'Min Temp': 'Min_Temp',\n",
    "        'Moving Time': 'Moving_Time',\n",
    "        'Elapsed Time': 'Elapsed_Time',\n",
    "        'Min Elevation': 'Min_Elevation',\n",
    "        'Max Elevation': 'Max_Elevation'\n",
    "    }, inplace=True\n",
    ")"
   ]
  },
  {
   "cell_type": "code",
   "execution_count": 19,
   "id": "3da5e874",
   "metadata": {},
   "outputs": [],
   "source": [
    "# create new column with name of bike used\n",
    "# create a list of our conditions\n",
    "conditions = [\n",
    "    (df['Activity_Type'] == 'Road Cycling'),\n",
    "    (df['Activity_Type'] == 'Gravel/Unpaved Cycling'),\n",
    "    (df['Activity_Type'] == 'Mountain Biking'),\n",
    "    (df['Activity_Type'] == 'Indoor Cycling'),\n",
    "    (df['Activity_Type'] == 'Virtual Cycling'),\n",
    "    (df['Activity_Type'] == 'eBiking'),\n",
    "    (df['Activity_Type'] == 'Cycling')\n",
    "    \n",
    "]\n",
    "# create a list of the values we want to assign for each condition\n",
    "values = ['Roubaix', 'Bergamont', 'Rockhopper', 'Tacx', 'Tacx', 'Elops','unknown']\n",
    "# create a new column and use np.select to assign values to it using our lists as arguments\n",
    "df['Bike'] = np.select(conditions, values)\n",
    "\n",
    "# shorten name of Gravel Cycling activity\n",
    "df = df.replace('Gravel/Unpaved Cycling', 'Gravel Cycling')"
   ]
  },
  {
   "cell_type": "code",
   "execution_count": 21,
   "id": "9a25d689",
   "metadata": {},
   "outputs": [],
   "source": [
    "df.to_csv('Activities_golden.csv')"
   ]
  },
  {
   "cell_type": "code",
   "execution_count": 20,
   "id": "d093522d",
   "metadata": {},
   "outputs": [
    {
     "name": "stdout",
     "output_type": "stream",
     "text": [
      "Data transformation done. Enjoy :-)\n"
     ]
    }
   ],
   "source": [
    "print('Data transformation done. Enjoy :-)')"
   ]
  },
  {
   "cell_type": "markdown",
   "id": "57140b4c",
   "metadata": {},
   "source": []
  }
 ],
 "metadata": {
  "kernelspec": {
   "display_name": "Python 3 (ipykernel)",
   "language": "python",
   "name": "python3"
  },
  "language_info": {
   "codemirror_mode": {
    "name": "ipython",
    "version": 3
   },
   "file_extension": ".py",
   "mimetype": "text/x-python",
   "name": "python",
   "nbconvert_exporter": "python",
   "pygments_lexer": "ipython3",
   "version": "3.10.0"
  },
  "vscode": {
   "interpreter": {
    "hash": "369f2c481f4da34e4445cda3fffd2e751bd1c4d706f27375911949ba6bb62e1c"
   }
  }
 },
 "nbformat": 4,
 "nbformat_minor": 5
}
