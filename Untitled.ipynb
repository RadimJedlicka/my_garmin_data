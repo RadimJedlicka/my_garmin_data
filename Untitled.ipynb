{
 "cells": [
  {
   "cell_type": "code",
   "execution_count": 6,
   "id": "e4851385",
   "metadata": {},
   "outputs": [
    {
     "name": "stdout",
     "output_type": "stream",
     "text": [
      "Collecting gpxpy\n",
      "  Using cached gpxpy-1.5.0.tar.gz (111 kB)\n",
      "  Preparing metadata (setup.py): started\n",
      "  Preparing metadata (setup.py): finished with status 'done'\n",
      "Building wheels for collected packages: gpxpy\n",
      "  Building wheel for gpxpy (setup.py): started\n",
      "  Building wheel for gpxpy (setup.py): finished with status 'done'\n",
      "  Created wheel for gpxpy: filename=gpxpy-1.5.0-py3-none-any.whl size=42898 sha256=344b0bd58c32b70e3e866fc95348ec990811773a3a1060af87e8d178f4e9f843\n",
      "  Stored in directory: c:\\users\\radim jedlicka\\appdata\\local\\pip\\cache\\wheels\\2d\\55\\75\\b958090afbe11e56d9a733c641002b294e0d21ca060910d2a6\n",
      "Successfully built gpxpy\n",
      "Installing collected packages: gpxpy\n",
      "Successfully installed gpxpy-1.5.0\n"
     ]
    }
   ],
   "source": [
    "!pip install gpxpy"
   ]
  },
  {
   "cell_type": "code",
   "execution_count": 7,
   "id": "7d39b559",
   "metadata": {},
   "outputs": [],
   "source": [
    "import gpxpy"
   ]
  },
  {
   "cell_type": "code",
   "execution_count": 9,
   "id": "b674274b",
   "metadata": {},
   "outputs": [],
   "source": [
    "with open('220813_gpx-file.gpx', encoding=\"utf8\") as f:\n",
    "    gpx = gpxpy.parse(f)"
   ]
  },
  {
   "cell_type": "code",
   "execution_count": 10,
   "id": "37daa33b",
   "metadata": {},
   "outputs": [
    {
     "data": {
      "text/plain": [
       "GPX(tracks=[GPXTrack(name='🚴\\u200d♂️🚴\\u200d♀️Passeiertal with Karin', segments=[GPXTrackSegment(points=[...])])])"
      ]
     },
     "execution_count": 10,
     "metadata": {},
     "output_type": "execute_result"
    }
   ],
   "source": [
    "gpx"
   ]
  },
  {
   "cell_type": "code",
   "execution_count": 11,
   "id": "25bd9321",
   "metadata": {},
   "outputs": [
    {
     "data": {
      "text/plain": [
       "1"
      ]
     },
     "execution_count": 11,
     "metadata": {},
     "output_type": "execute_result"
    }
   ],
   "source": [
    "len(gpx.tracks)"
   ]
  },
  {
   "cell_type": "code",
   "execution_count": 13,
   "id": "c619e1dc",
   "metadata": {},
   "outputs": [
    {
     "data": {
      "text/plain": [
       "GPXTrack(name='🚴\\u200d♂️🚴\\u200d♀️Passeiertal with Karin', segments=[GPXTrackSegment(points=[...])])"
      ]
     },
     "execution_count": 13,
     "metadata": {},
     "output_type": "execute_result"
    }
   ],
   "source": [
    "track = gpx.tracks[0]\n",
    "track"
   ]
  },
  {
   "cell_type": "code",
   "execution_count": 14,
   "id": "9d4af6a8",
   "metadata": {},
   "outputs": [
    {
     "data": {
      "text/plain": [
       "'road_biking'"
      ]
     },
     "execution_count": 14,
     "metadata": {},
     "output_type": "execute_result"
    }
   ],
   "source": [
    "track.type"
   ]
  },
  {
   "cell_type": "code",
   "execution_count": 15,
   "id": "e57dcc11",
   "metadata": {},
   "outputs": [
    {
     "data": {
      "text/plain": [
       "'🚴\\u200d♂️🚴\\u200d♀️Passeiertal with Karin'"
      ]
     },
     "execution_count": 15,
     "metadata": {},
     "output_type": "execute_result"
    }
   ],
   "source": [
    "track.name"
   ]
  },
  {
   "cell_type": "code",
   "execution_count": 16,
   "id": "2e54b0a7",
   "metadata": {},
   "outputs": [
    {
     "data": {
      "text/plain": [
       "[GPXTrackSegment(points=[...])]"
      ]
     },
     "execution_count": 16,
     "metadata": {},
     "output_type": "execute_result"
    }
   ],
   "source": [
    "track.segments"
   ]
  },
  {
   "cell_type": "code",
   "execution_count": 17,
   "id": "2eb4fb96",
   "metadata": {},
   "outputs": [],
   "source": [
    "segment = track.segments[0]"
   ]
  },
  {
   "cell_type": "code",
   "execution_count": 18,
   "id": "558fd363",
   "metadata": {},
   "outputs": [
    {
     "data": {
      "text/plain": [
       "15316"
      ]
     },
     "execution_count": 18,
     "metadata": {},
     "output_type": "execute_result"
    }
   ],
   "source": [
    "len(segment.points)"
   ]
  },
  {
   "cell_type": "code",
   "execution_count": 20,
   "id": "b04a4de7",
   "metadata": {},
   "outputs": [
    {
     "data": {
      "text/plain": [
       "GPXTrackPoint(46.417828844860196, 11.232330026105046, elevation=567.0, time=datetime.datetime(2022, 8, 13, 7, 25, 38, tzinfo=SimpleTZ(\"Z\")))"
      ]
     },
     "execution_count": 20,
     "metadata": {},
     "output_type": "execute_result"
    }
   ],
   "source": [
    "random_point = segment.points[44]\n",
    "random_point"
   ]
  },
  {
   "cell_type": "code",
   "execution_count": 21,
   "id": "b509d3dd",
   "metadata": {},
   "outputs": [
    {
     "data": {
      "text/plain": [
       "46.417828844860196"
      ]
     },
     "execution_count": 21,
     "metadata": {},
     "output_type": "execute_result"
    }
   ],
   "source": [
    "random_point.latitude"
   ]
  },
  {
   "cell_type": "code",
   "execution_count": 22,
   "id": "1668f0ba",
   "metadata": {},
   "outputs": [
    {
     "data": {
      "text/plain": [
       "11.232330026105046"
      ]
     },
     "execution_count": 22,
     "metadata": {},
     "output_type": "execute_result"
    }
   ],
   "source": [
    "random_point.longitude"
   ]
  },
  {
   "cell_type": "code",
   "execution_count": 23,
   "id": "74defea6",
   "metadata": {},
   "outputs": [
    {
     "data": {
      "text/plain": [
       "567.0"
      ]
     },
     "execution_count": 23,
     "metadata": {},
     "output_type": "execute_result"
    }
   ],
   "source": [
    "random_point.elevation"
   ]
  },
  {
   "cell_type": "code",
   "execution_count": 24,
   "id": "88c7b2b7",
   "metadata": {},
   "outputs": [
    {
     "data": {
      "text/plain": [
       "datetime.datetime(2022, 8, 13, 7, 25, 38, tzinfo=SimpleTZ(\"Z\"))"
      ]
     },
     "execution_count": 24,
     "metadata": {},
     "output_type": "execute_result"
    }
   ],
   "source": [
    "random_point.time"
   ]
  },
  {
   "cell_type": "code",
   "execution_count": 25,
   "id": "6ab27973",
   "metadata": {},
   "outputs": [
    {
     "data": {
      "text/plain": [
       "[<Element {http://www.garmin.com/xmlschemas/TrackPointExtension/v1}TrackPointExtension at 0x223dd964ac0>]"
      ]
     },
     "execution_count": 25,
     "metadata": {},
     "output_type": "execute_result"
    }
   ],
   "source": [
    "random_point.extensions"
   ]
  },
  {
   "cell_type": "code",
   "execution_count": 27,
   "id": "cb45cf43",
   "metadata": {},
   "outputs": [
    {
     "name": "stdout",
     "output_type": "stream",
     "text": [
      "{http://www.garmin.com/xmlschemas/TrackPointExtension/v1}atemp 31.0\n",
      "{http://www.garmin.com/xmlschemas/TrackPointExtension/v1}hr 134\n",
      "{http://www.garmin.com/xmlschemas/TrackPointExtension/v1}cad 0\n"
     ]
    }
   ],
   "source": [
    "tpe = random_point.extensions[0]\n",
    "for child in tpe:\n",
    "    print(child.tag, child.text)"
   ]
  },
  {
   "cell_type": "code",
   "execution_count": 28,
   "id": "e077cf66",
   "metadata": {},
   "outputs": [
    {
     "data": {
      "text/plain": [
       "104296.75725128796"
      ]
     },
     "execution_count": 28,
     "metadata": {},
     "output_type": "execute_result"
    }
   ],
   "source": [
    "segment.length_2d()  # ignoring elevation"
   ]
  },
  {
   "cell_type": "code",
   "execution_count": 29,
   "id": "ac3ee4f0",
   "metadata": {},
   "outputs": [
    {
     "data": {
      "text/plain": [
       "104357.79333548063"
      ]
     },
     "execution_count": 29,
     "metadata": {},
     "output_type": "execute_result"
    }
   ],
   "source": [
    "segment.length_3d()  # including elevation"
   ]
  },
  {
   "cell_type": "code",
   "execution_count": 30,
   "id": "02b4ce1e",
   "metadata": {},
   "outputs": [
    {
     "data": {
      "text/plain": [
       "MovingData(moving_time=16012.0, stopped_time=3914.0, moving_distance=104241.30000709242, stopped_distance=116.49332838822724, max_speed=8.56083959432432)"
      ]
     },
     "execution_count": 30,
     "metadata": {},
     "output_type": "execute_result"
    }
   ],
   "source": [
    "segment.get_moving_data()"
   ]
  },
  {
   "cell_type": "code",
   "execution_count": 32,
   "id": "3a158d47",
   "metadata": {},
   "outputs": [
    {
     "data": {
      "text/plain": [
       "10.871540680172991"
      ]
     },
     "execution_count": 32,
     "metadata": {},
     "output_type": "execute_result"
    }
   ],
   "source": [
    "segment.get_speed(144)  # The number of the point at which you want to measure speed"
   ]
  },
  {
   "cell_type": "code",
   "execution_count": 43,
   "id": "c094cad0",
   "metadata": {
    "scrolled": true
   },
   "outputs": [
    {
     "name": "stdout",
     "output_type": "stream",
     "text": [
      "        latitude  longitude   elevation                      time  heart_rate  \\\n",
      "0      46.416855  11.230783  562.400024 2022-08-13 07:24:53+00:00         NaN   \n",
      "1      46.416891  11.230794  565.000000 2022-08-13 07:24:54+00:00         NaN   \n",
      "2      46.416928  11.230789  565.000000 2022-08-13 07:24:55+00:00         NaN   \n",
      "3      46.416961  11.230777  565.000000 2022-08-13 07:24:56+00:00         NaN   \n",
      "4      46.416991  11.230760  565.000000 2022-08-13 07:24:57+00:00         NaN   \n",
      "...          ...        ...         ...                       ...         ...   \n",
      "15311  46.480252  11.297623  284.200012 2022-08-13 12:56:56+00:00         NaN   \n",
      "15312  46.480206  11.297610  283.799988 2022-08-13 12:56:57+00:00         NaN   \n",
      "15313  46.480174  11.297597  283.799988 2022-08-13 12:56:58+00:00         NaN   \n",
      "15314  46.480158  11.297588  283.799988 2022-08-13 12:56:59+00:00         NaN   \n",
      "15315  46.480153  11.297581  283.799988 2022-08-13 12:57:00+00:00         NaN   \n",
      "\n",
      "       cadence  \n",
      "0          NaN  \n",
      "1          NaN  \n",
      "2          NaN  \n",
      "3          NaN  \n",
      "4          NaN  \n",
      "...        ...  \n",
      "15311      NaN  \n",
      "15312      NaN  \n",
      "15313      NaN  \n",
      "15314      NaN  \n",
      "15315      NaN  \n",
      "\n",
      "[15316 rows x 6 columns]\n"
     ]
    }
   ],
   "source": [
    "\"\"\"Some functions for parsing a GPX file (specifically, a GPX file\n",
    "downloaded from Strava, which was generated based on data recorded by a\n",
    "Garmin vívoactive 3) and creating a Pandas DataFrame with the data.\n",
    "\"\"\"\n",
    "\n",
    "from typing import Dict, Union\n",
    "from datetime import datetime\n",
    "\n",
    "import gpxpy\n",
    "import pandas as pd\n",
    "\n",
    "\n",
    "\n",
    "# The XML namespaces used by the GPX file for extensions, used when parsing the extensions\n",
    "NAMESPACES = {'garmin_tpe': 'activity_9802017887.tcx'}\n",
    "\n",
    "# The names of the columns we will use in our DataFrame\n",
    "COLUMN_NAMES = ['latitude', 'longitude', 'elevation', 'time', 'heart_rate', 'cadence']\n",
    "\n",
    "def get_gpx_point_data(point: gpxpy.gpx.GPXTrackPoint) -> Dict[str, Union[float, datetime, int]]:\n",
    "        \"\"\"Return a tuple containing some key data about `point`.\"\"\"\n",
    "        \n",
    "        data = {\n",
    "            'latitude': point.latitude,\n",
    "            'longitude': point.longitude,\n",
    "            'elevation': point.elevation,\n",
    "            'time': point.time\n",
    "        }\n",
    "    \n",
    "        # Parse extensions for heart rate and cadence data, if available\n",
    "        elem = point.extensions[0]  # Assuming we know there is only one extension\n",
    "        try:\n",
    "            data['heart_rate'] = int(elem.find('garmin_tpe:hr', NAMESPACES).text)\n",
    "        except AttributeError:\n",
    "            # \"text\" attribute not found, so data not available\n",
    "            pass\n",
    "            \n",
    "        try:\n",
    "            data['cadence'] = int(elem.find('garmin_tpe:cad', NAMESPACES).text)\n",
    "        except AttributeError:\n",
    "            pass\n",
    "\n",
    "        return data\n",
    "\n",
    "def get_dataframe_from_gpx(fname: str) -> pd.DataFrame:\n",
    "    \"\"\"Takes the path to a GPX file (as a string) and returns a Pandas\n",
    "    DataFrame.\n",
    "    \"\"\"\n",
    "    with open('220813_gpx-file.gpx', encoding=\"utf8\") as f:\n",
    "        gpx = gpxpy.parse(f)\n",
    "    segment = gpx.tracks[0].segments[0]  # Assuming we know that there is only one track and one segment\n",
    "    data = [get_gpx_point_data(point) for point in segment.points]\n",
    "    return pd.DataFrame(data, columns=COLUMN_NAMES)\n",
    "\n",
    "if __name__ == '__main__':\n",
    "    \n",
    "    from sys import argv\n",
    "    fname = argv[1]  # Path to GPX file to be given as first argument to script\n",
    "    df = get_dataframe_from_gpx(fname)\n",
    "    print(df)\n",
    "    "
   ]
  },
  {
   "cell_type": "code",
   "execution_count": 44,
   "id": "84c1b40a",
   "metadata": {},
   "outputs": [
    {
     "data": {
      "text/html": [
       "<div>\n",
       "<style scoped>\n",
       "    .dataframe tbody tr th:only-of-type {\n",
       "        vertical-align: middle;\n",
       "    }\n",
       "\n",
       "    .dataframe tbody tr th {\n",
       "        vertical-align: top;\n",
       "    }\n",
       "\n",
       "    .dataframe thead th {\n",
       "        text-align: right;\n",
       "    }\n",
       "</style>\n",
       "<table border=\"1\" class=\"dataframe\">\n",
       "  <thead>\n",
       "    <tr style=\"text-align: right;\">\n",
       "      <th></th>\n",
       "      <th>latitude</th>\n",
       "      <th>longitude</th>\n",
       "      <th>elevation</th>\n",
       "      <th>time</th>\n",
       "      <th>heart_rate</th>\n",
       "      <th>cadence</th>\n",
       "    </tr>\n",
       "  </thead>\n",
       "  <tbody>\n",
       "    <tr>\n",
       "      <th>0</th>\n",
       "      <td>46.416855</td>\n",
       "      <td>11.230783</td>\n",
       "      <td>562.400024</td>\n",
       "      <td>2022-08-13 07:24:53+00:00</td>\n",
       "      <td>NaN</td>\n",
       "      <td>NaN</td>\n",
       "    </tr>\n",
       "    <tr>\n",
       "      <th>1</th>\n",
       "      <td>46.416891</td>\n",
       "      <td>11.230794</td>\n",
       "      <td>565.000000</td>\n",
       "      <td>2022-08-13 07:24:54+00:00</td>\n",
       "      <td>NaN</td>\n",
       "      <td>NaN</td>\n",
       "    </tr>\n",
       "    <tr>\n",
       "      <th>2</th>\n",
       "      <td>46.416928</td>\n",
       "      <td>11.230789</td>\n",
       "      <td>565.000000</td>\n",
       "      <td>2022-08-13 07:24:55+00:00</td>\n",
       "      <td>NaN</td>\n",
       "      <td>NaN</td>\n",
       "    </tr>\n",
       "    <tr>\n",
       "      <th>3</th>\n",
       "      <td>46.416961</td>\n",
       "      <td>11.230777</td>\n",
       "      <td>565.000000</td>\n",
       "      <td>2022-08-13 07:24:56+00:00</td>\n",
       "      <td>NaN</td>\n",
       "      <td>NaN</td>\n",
       "    </tr>\n",
       "    <tr>\n",
       "      <th>4</th>\n",
       "      <td>46.416991</td>\n",
       "      <td>11.230760</td>\n",
       "      <td>565.000000</td>\n",
       "      <td>2022-08-13 07:24:57+00:00</td>\n",
       "      <td>NaN</td>\n",
       "      <td>NaN</td>\n",
       "    </tr>\n",
       "    <tr>\n",
       "      <th>...</th>\n",
       "      <td>...</td>\n",
       "      <td>...</td>\n",
       "      <td>...</td>\n",
       "      <td>...</td>\n",
       "      <td>...</td>\n",
       "      <td>...</td>\n",
       "    </tr>\n",
       "    <tr>\n",
       "      <th>15311</th>\n",
       "      <td>46.480252</td>\n",
       "      <td>11.297623</td>\n",
       "      <td>284.200012</td>\n",
       "      <td>2022-08-13 12:56:56+00:00</td>\n",
       "      <td>NaN</td>\n",
       "      <td>NaN</td>\n",
       "    </tr>\n",
       "    <tr>\n",
       "      <th>15312</th>\n",
       "      <td>46.480206</td>\n",
       "      <td>11.297610</td>\n",
       "      <td>283.799988</td>\n",
       "      <td>2022-08-13 12:56:57+00:00</td>\n",
       "      <td>NaN</td>\n",
       "      <td>NaN</td>\n",
       "    </tr>\n",
       "    <tr>\n",
       "      <th>15313</th>\n",
       "      <td>46.480174</td>\n",
       "      <td>11.297597</td>\n",
       "      <td>283.799988</td>\n",
       "      <td>2022-08-13 12:56:58+00:00</td>\n",
       "      <td>NaN</td>\n",
       "      <td>NaN</td>\n",
       "    </tr>\n",
       "    <tr>\n",
       "      <th>15314</th>\n",
       "      <td>46.480158</td>\n",
       "      <td>11.297588</td>\n",
       "      <td>283.799988</td>\n",
       "      <td>2022-08-13 12:56:59+00:00</td>\n",
       "      <td>NaN</td>\n",
       "      <td>NaN</td>\n",
       "    </tr>\n",
       "    <tr>\n",
       "      <th>15315</th>\n",
       "      <td>46.480153</td>\n",
       "      <td>11.297581</td>\n",
       "      <td>283.799988</td>\n",
       "      <td>2022-08-13 12:57:00+00:00</td>\n",
       "      <td>NaN</td>\n",
       "      <td>NaN</td>\n",
       "    </tr>\n",
       "  </tbody>\n",
       "</table>\n",
       "<p>15316 rows × 6 columns</p>\n",
       "</div>"
      ],
      "text/plain": [
       "        latitude  longitude   elevation                      time  heart_rate  \\\n",
       "0      46.416855  11.230783  562.400024 2022-08-13 07:24:53+00:00         NaN   \n",
       "1      46.416891  11.230794  565.000000 2022-08-13 07:24:54+00:00         NaN   \n",
       "2      46.416928  11.230789  565.000000 2022-08-13 07:24:55+00:00         NaN   \n",
       "3      46.416961  11.230777  565.000000 2022-08-13 07:24:56+00:00         NaN   \n",
       "4      46.416991  11.230760  565.000000 2022-08-13 07:24:57+00:00         NaN   \n",
       "...          ...        ...         ...                       ...         ...   \n",
       "15311  46.480252  11.297623  284.200012 2022-08-13 12:56:56+00:00         NaN   \n",
       "15312  46.480206  11.297610  283.799988 2022-08-13 12:56:57+00:00         NaN   \n",
       "15313  46.480174  11.297597  283.799988 2022-08-13 12:56:58+00:00         NaN   \n",
       "15314  46.480158  11.297588  283.799988 2022-08-13 12:56:59+00:00         NaN   \n",
       "15315  46.480153  11.297581  283.799988 2022-08-13 12:57:00+00:00         NaN   \n",
       "\n",
       "       cadence  \n",
       "0          NaN  \n",
       "1          NaN  \n",
       "2          NaN  \n",
       "3          NaN  \n",
       "4          NaN  \n",
       "...        ...  \n",
       "15311      NaN  \n",
       "15312      NaN  \n",
       "15313      NaN  \n",
       "15314      NaN  \n",
       "15315      NaN  \n",
       "\n",
       "[15316 rows x 6 columns]"
      ]
     },
     "execution_count": 44,
     "metadata": {},
     "output_type": "execute_result"
    }
   ],
   "source": [
    "df"
   ]
  }
 ],
 "metadata": {
  "kernelspec": {
   "display_name": "Python 3 (ipykernel)",
   "language": "python",
   "name": "python3"
  },
  "language_info": {
   "codemirror_mode": {
    "name": "ipython",
    "version": 3
   },
   "file_extension": ".py",
   "mimetype": "text/x-python",
   "name": "python",
   "nbconvert_exporter": "python",
   "pygments_lexer": "ipython3",
   "version": "3.10.0"
  }
 },
 "nbformat": 4,
 "nbformat_minor": 5
}
